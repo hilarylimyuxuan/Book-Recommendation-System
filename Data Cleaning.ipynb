{
 "cells": [
  {
   "cell_type": "code",
   "execution_count": null,
   "id": "6a32d07c",
   "metadata": {},
   "outputs": [],
   "source": [
    "##Getting only the year\n",
    "book_df['volumeInfo.publishedDate'] = book_df['volumeInfo.publishedDate'].apply(lambda x: str(x).replace(\"-\",\"\"))\n",
    "book_df['volumeInfo.publishedDate'] = book_df['volumeInfo.publishedDate'].str[:4]\n",
    "\n",
    "##Fiiling the null values in average ratings and ratings count \n",
    "book_df['volumeInfo.averageRating'] = book_df['volumeInfo.averageRating'].fillna(0)\n",
    "book_df['volumeInfo.ratingsCount'] = book_df['volumeInfo.ratingsCount'].fillna(0)\n",
    "\n",
    "##Removing the \".\"\n",
    "book_df['volumeInfo.subtitle'] = book_df['volumeInfo.subtitle'].apply(lambda x: str(x).replace(\".\",\"\"))"
   ]
  }
 ],
 "metadata": {
  "kernelspec": {
   "display_name": "Python 3 (ipykernel)",
   "language": "python",
   "name": "python3"
  },
  "language_info": {
   "codemirror_mode": {
    "name": "ipython",
    "version": 3
   },
   "file_extension": ".py",
   "mimetype": "text/x-python",
   "name": "python",
   "nbconvert_exporter": "python",
   "pygments_lexer": "ipython3",
   "version": "3.9.7"
  }
 },
 "nbformat": 4,
 "nbformat_minor": 5
}
